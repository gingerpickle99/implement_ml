{
 "cells": [
  {
   "cell_type": "code",
   "execution_count": 14,
   "metadata": {},
   "outputs": [],
   "source": [
    "import numpy as np\n",
    "import pandas as pd\n",
    "\n",
    "# 1-iterating over the data\n",
    "# return new centroids and labels\n",
    "def kmeans_core(data,centroids):\n",
    "    n=data.shape[0]\n",
    "    k=len(centroids)\n",
    "    labels=np.zeros(n)\n",
    "    cluster_sum=np.zeros((k,data.shape[1]))\n",
    "    cluster_count=np.zeros(k)\n",
    "    for i in range(n):\n",
    "        temp=float('inf')\n",
    "        for j in range(k):\n",
    "            if np.linalg.norm(data[i]-centroids[j])<temp:\n",
    "                temp=np.linalg.norm(data[i]-centroids[j])\n",
    "                labels[i]=j\n",
    "        cluster_sum[int(labels[i])]+=data[i]\n",
    "        cluster_count[int(labels[i])]+=1\n",
    "    new_centroids=np.zeros((k,data.shape[1]))\n",
    "    for i in range(k):\n",
    "        new_centroids[i]=cluster_sum[i]/cluster_count[i]\n",
    "    return new_centroids,labels"
   ]
  },
  {
   "cell_type": "code",
   "execution_count": 15,
   "metadata": {},
   "outputs": [],
   "source": [
    "# this function initialize the centroids and call kmeans_core till convergence\n",
    "def kmeans(data,k,randomseed):\n",
    "    # select k random points as centroids\n",
    "    np.random.seed(randomseed)\n",
    "    centroids=data[np.random.choice(data.shape[0],k,replace=False)]\n",
    "    new_centroids,labels=kmeans_core(data,centroids)\n",
    "    while not np.array_equal(centroids,new_centroids):\n",
    "        centroids=new_centroids\n",
    "        new_centroids,labels=kmeans_core(data,centroids)\n",
    "    return labels,centroids"
   ]
  },
  {
   "cell_type": "code",
   "execution_count": 16,
   "metadata": {},
   "outputs": [],
   "source": [
    "# import data from sklearn\n",
    "from sklearn.datasets import load_iris\n",
    "iris=load_iris()\n",
    "data=iris.data\n",
    "labels=iris.target\n",
    "\n",
    "# call kmeans\n",
    "my_labels,centroids=kmeans(data,3,25)\n",
    "\n",
    "# call kmeans from sklearn\n",
    "from sklearn.cluster import KMeans\n",
    "kmeans_1=KMeans(n_clusters=3,random_state=25,n_init=1,max_iter=500).fit(data)\n",
    "sklearn_labels=kmeans_1.labels_\n"
   ]
  },
  {
   "cell_type": "code",
   "execution_count": 17,
   "metadata": {},
   "outputs": [
    {
     "name": "stdout",
     "output_type": "stream",
     "text": [
      "proposed kmeans is working fine\n"
     ]
    }
   ],
   "source": [
    "# create a dictionary containg label and corresponding no of points in that cluster\n",
    "def create_dict(labels):\n",
    "    d={}\n",
    "    for i in labels:\n",
    "        if i in d:\n",
    "            d[i]+=1\n",
    "        else:\n",
    "            d[i]=1\n",
    "    return d\n",
    "\n",
    "# create dictionary for my_labels and sklearn_labels\n",
    "my_dict=create_dict(my_labels)\n",
    "sklearn_dict=create_dict(sklearn_labels)\n",
    "\n",
    "# make a list of values of my_dict and sklearn_dict\n",
    "my_list=list(my_dict.values())\n",
    "sklearn_list=list(sklearn_dict.values())\n",
    "\n",
    "# sort both the lists\n",
    "my_list.sort()\n",
    "sklearn_list.sort()\n",
    "\n",
    "# check if both the lists are equal\n",
    "if my_list==sklearn_list:\n",
    "    print('proposed kmeans is working fine')\n",
    "else:\n",
    "    print('proposed kmeans is not working fine')"
   ]
  }
 ],
 "metadata": {
  "kernelspec": {
   "display_name": "Python 3",
   "language": "python",
   "name": "python3"
  },
  "language_info": {
   "codemirror_mode": {
    "name": "ipython",
    "version": 3
   },
   "file_extension": ".py",
   "mimetype": "text/x-python",
   "name": "python",
   "nbconvert_exporter": "python",
   "pygments_lexer": "ipython3",
   "version": "3.10.6"
  },
  "orig_nbformat": 4,
  "vscode": {
   "interpreter": {
    "hash": "916dbcbb3f70747c44a77c7bcd40155683ae19c65e1c03b4aa3499c5328201f1"
   }
  }
 },
 "nbformat": 4,
 "nbformat_minor": 2
}
